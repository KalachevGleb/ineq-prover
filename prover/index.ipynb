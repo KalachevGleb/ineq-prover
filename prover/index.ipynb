{
 "cells": [
  {
   "cell_type": "code",
   "execution_count": null,
   "id": "9d249845",
   "metadata": {},
   "outputs": [
    {
     "name": "stdout",
     "output_type": "stream",
     "text": [
      "3-th derivative of f is: -3*sin(x)*sin(sin(x))*cos(x) + cos(x)**3*cos(sin(x)) + cos(x)*cos(sin(x)) - cos(x)\n",
      "0-th derivative of f is: sin(x) - sin(sin(x))\n",
      "Инервал: 0.0 1.0\n",
      "eps: 0.25 0.125\n",
      "Отрезок: 0.25 0.875\n",
      "sin(x)-sin(sin(x))\n",
      "-::( sin::( [0.25, 0.875] ) , sin::( sin::( [0.25, 0.875] ) ) )\n"
     ]
    }
   ],
   "source": [
    "from prover import *\n",
    "print(is_non_negative(input('введите функцию'),input('введите диапазон значений')))\n",
    "#run_tests()"
   ]
  },
  {
   "cell_type": "code",
   "execution_count": null,
   "id": "d57561f5",
   "metadata": {},
   "outputs": [],
   "source": []
  },
  {
   "cell_type": "code",
   "execution_count": null,
   "id": "ab48b6ac",
   "metadata": {},
   "outputs": [],
   "source": []
  }
 ],
 "metadata": {
  "kernelspec": {
   "display_name": "Python 3",
   "language": "python",
   "name": "python3"
  },
  "language_info": {
   "codemirror_mode": {
    "name": "ipython",
    "version": 3
   },
   "file_extension": ".py",
   "mimetype": "text/x-python",
   "name": "python",
   "nbconvert_exporter": "python",
   "pygments_lexer": "ipython3",
   "version": "3.7.6"
  }
 },
 "nbformat": 4,
 "nbformat_minor": 5
}
